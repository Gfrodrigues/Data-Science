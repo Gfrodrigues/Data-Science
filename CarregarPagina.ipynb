{
  "nbformat": 4,
  "nbformat_minor": 0,
  "metadata": {
    "colab": {
      "name": "CarregarPagina.ipynb",
      "provenance": [],
      "collapsed_sections": [],
      "include_colab_link": true
    },
    "kernelspec": {
      "name": "python3",
      "display_name": "Python 3"
    }
  },
  "cells": [
    {
      "cell_type": "markdown",
      "metadata": {
        "id": "view-in-github",
        "colab_type": "text"
      },
      "source": [
        "<a href=\"https://colab.research.google.com/github/Gfrodrigues/Data-Science/blob/master/CarregarPagina.ipynb\" target=\"_parent\"><img src=\"https://colab.research.google.com/assets/colab-badge.svg\" alt=\"Open In Colab\"/></a>"
      ]
    },
    {
      "cell_type": "code",
      "metadata": {
        "id": "5JOOtHct0crZ"
      },
      "source": [
        "import pyautogui\n",
        "import time\n",
        "import pyperclip\n",
        "\n",
        "pyautogui.PAUSE = 1\n",
        "pyautogui.alert(\"Vai começar, aperte OK e não mexa em nada\")\n",
        "\n",
        "# opção 1 - abrir navegador novo e entrar no chrome\n",
        "# pyautogui.press(\"winleft\")\n",
        "# pyautogui.write(\"chrome\")\n",
        "# pyautogui.press(\"enter\")\n",
        "\n",
        "# opção 2 - abrir uma nova aba\n",
        "pyautogui.hotkey('ctrl', 't')\n",
        "\n",
        "# abrir drive\n",
        "# ensinar aqui o write\n",
        "link = \"https://drive.google.com/drive/folders/1mhXZ3JPAnekXP_4vX7Z_sJj35VWqayaR?usp=sharing\"\n",
        "pyperclip.copy(link)\n",
        "pyautogui.hotkey(\"ctrl\", \"v\")\n",
        "pyautogui.press(\"enter\")\n",
        "time.sleep(5)\n",
        "\n",
        "# baixar base de dados atualizada\n",
        "pyautogui.click(935, 694, clicks=2)\n",
        "pyautogui.click(2028, 895)\n",
        "pyautogui.click(3306, 406)\n",
        "pyautogui.click(2880, 1489)\n",
        "time.sleep(10)"
      ],
      "execution_count": null,
      "outputs": []
    },
    {
      "cell_type": "markdown",
      "metadata": {
        "id": "BAyAdGrV1p3Y"
      },
      "source": [
        "### Vamos agora ler o arquivo baixado para pegar os indicadores\n",
        "\n",
        "- Faturamento\n",
        "- Quantidade de Produtos"
      ]
    },
    {
      "cell_type": "code",
      "metadata": {
        "id": "U4zYedCo1tIc"
      },
      "source": [
        "import pandas as pd\n",
        "\n",
        "df = pd.read_excel(\"C://Users/joaop/Downloads/Vendas - Dez.xlsx\")\n",
        "display(df)\n",
        "faturamento = df['Valor Final'].sum()\n",
        "qtde_produtos = df['Quantidade'].sum()"
      ],
      "execution_count": null,
      "outputs": []
    },
    {
      "cell_type": "markdown",
      "metadata": {
        "id": "lKqK_drR13El"
      },
      "source": [
        "### Vamos agora enviar um e-mail pelo gmail"
      ]
    },
    {
      "cell_type": "code",
      "metadata": {
        "id": "-aOYqJxL15ZE"
      },
      "source": [
        "import pyperclip\n",
        "\n",
        "# abrir aba gmail\n",
        "pyautogui.hotkey('ctrl', 't')\n",
        "pyautogui.write(\"mail.google.com\")\n",
        "pyautogui.press('enter')\n",
        "time.sleep(5)\n",
        "\n",
        "# clicar em escrever email\n",
        "pyautogui.click(307, 506)\n",
        "\n",
        "# preencher informações do e-mail\n",
        "pyautogui.write('pythonimpressionador+diretoria@gmail.com')\n",
        "pyautogui.press('tab')\n",
        "pyautogui.press('tab')\n",
        "assunto = \"Relatório de Vendas de Ontem\"\n",
        "pyperclip.copy(assunto)\n",
        "pyautogui.hotkey(\"ctrl\", 'v')\n",
        "pyautogui.press(\"tab\")\n",
        "texto = f\"\"\"\n",
        "Prezados, bom dia\n",
        "\n",
        "O faturamento de ontem foi de: R${faturamento:,.2f}\n",
        "A quantidade de produtos foi de: {qtde_produtos:,}\n",
        "\n",
        "Abs\n",
        "LiraPython\"\"\"\n",
        "pyperclip.copy(texto)\n",
        "pyautogui.hotkey(\"ctrl\", 'v')\n",
        "\n",
        "# enviar e-mail\n",
        "pyautogui.hotkey('ctrl', 'enter')\n",
        "\n",
        "# avisar que acabou\n",
        "pyautogui.alert(\"Fim da Automação. Seu computador já voltou a ser seu\")"
      ],
      "execution_count": null,
      "outputs": []
    },
    {
      "cell_type": "markdown",
      "metadata": {
        "id": "lfb0ckJ_2BTJ"
      },
      "source": [
        "#### Use esse código para descobrir qual a posição de um item que queira clicar\n",
        "\n",
        "- Lembre-se: a posição na sua tela é diferente da posição na minha tela"
      ]
    },
    {
      "cell_type": "code",
      "metadata": {
        "id": "-GP0yj3Y2CnO"
      },
      "source": [
        "import pyautogui\n",
        "import time\n",
        "time.sleep(4)\n",
        "print(pyautogui.position())\n",
        "pyautogui.alert(\"Posição Registrada\")"
      ],
      "execution_count": null,
      "outputs": []
    },
    {
      "cell_type": "markdown",
      "metadata": {
        "id": "FeYXpooc2HAN"
      },
      "source": [
        "#### Caso queira pegar por uma imagem"
      ]
    },
    {
      "cell_type": "code",
      "metadata": {
        "id": "O1MTWi9H2NdO"
      },
      "source": [
        "time.sleep(5)\n",
        "x, y = pyautogui.locateCenterOnScreen(\"txt.png\")\n",
        "pyautogui.click(x, y)"
      ],
      "execution_count": null,
      "outputs": []
    }
  ]
}